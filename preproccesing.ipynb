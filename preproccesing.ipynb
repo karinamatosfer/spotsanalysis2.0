{
 "cells": [
  {
   "cell_type": "code",
   "execution_count": 2,
   "metadata": {
    "collapsed": true
   },
   "outputs": [],
   "source": [
    "import sys\n",
    "sys.path.append(r'C:\\Users\\kmm171\\ImageAnalysis')\n",
    "from pathlib import Path\n",
    "import os\n",
    "import shutil\n",
    "from tqdm import tqdm\n",
    "\n",
    "#local imports\n",
    "import main.main_legacy as legacy\n",
    "import main.main_improv2 as improv\n",
    "import main.main as main\n",
    "from caImageAnalysis.utilities.pathutils import pathcrawler, moveoriginalimage, renametxtfile\n",
    "\n"
   ]
  },
  {
   "cell_type": "code",
   "execution_count": 8,
   "outputs": [
    {
     "name": "stdout",
     "output_type": "stream",
     "text": [
      "{'fish139_a': ['C:\\\\Users\\\\kmm171\\\\Desktop\\\\Data\\\\improv\\\\training_data\\\\20240125_7dpf\\\\139_eval3h2bgcamp6s_7dpf_fed_mono_R_20240125\\\\img_stack_0'], 'fish139_b': ['C:\\\\Users\\\\kmm171\\\\Desktop\\\\Data\\\\improv\\\\training_data\\\\20240125_7dpf\\\\139_eval3h2bgcamp6s_7dpf_fed_mono_R_20240125\\\\img_stack_1'], 'fish140b_a': ['C:\\\\Users\\\\kmm171\\\\Desktop\\\\Data\\\\improv\\\\training_data\\\\20240125_7dpf\\\\140b_eval3h2bgcamp6s_7dpf_fed_mono_R_20240125\\\\img_stack_0'], 'fish140b_b': ['C:\\\\Users\\\\kmm171\\\\Desktop\\\\Data\\\\improv\\\\training_data\\\\20240125_7dpf\\\\140b_eval3h2bgcamp6s_7dpf_fed_mono_R_20240125\\\\img_stack_1'], 'fish141_a': ['C:\\\\Users\\\\kmm171\\\\Desktop\\\\Data\\\\improv\\\\training_data\\\\20240125_7dpf\\\\141_eval3h2bgcamp6s_7dpf_fed_mono_R_20240125\\\\img_stack_0'], 'fish141_b': ['C:\\\\Users\\\\kmm171\\\\Desktop\\\\Data\\\\improv\\\\training_data\\\\20240125_7dpf\\\\141_eval3h2bgcamp6s_7dpf_fed_mono_R_20240125\\\\img_stack_1'], 'fish142_a': ['C:\\\\Users\\\\kmm171\\\\Desktop\\\\Data\\\\improv\\\\training_data\\\\20240125_7dpf\\\\142_eval3h2bgcamp6s_7dpf_fed_mono_R_20240125\\\\img_stack_0'], 'fish142_b': ['C:\\\\Users\\\\kmm171\\\\Desktop\\\\Data\\\\improv\\\\training_data\\\\20240125_7dpf\\\\142_eval3h2bgcamp6s_7dpf_fed_mono_R_20240125\\\\img_stack_1'], 'fish143_a': ['C:\\\\Users\\\\kmm171\\\\Desktop\\\\Data\\\\improv\\\\training_data\\\\20240125_7dpf\\\\143_eval3h2bgcamp6s_7dpf_unfed_mono_R_20240125\\\\img_stack_0'], 'fish143_b': ['C:\\\\Users\\\\kmm171\\\\Desktop\\\\Data\\\\improv\\\\training_data\\\\20240125_7dpf\\\\143_eval3h2bgcamp6s_7dpf_unfed_mono_R_20240125\\\\img_stack_1'], 'fish144_a': ['C:\\\\Users\\\\kmm171\\\\Desktop\\\\Data\\\\improv\\\\training_data\\\\20240125_7dpf\\\\144_eval3h2bgcamp6s_7dpf_unfed_mono_R_20240125\\\\img_stack_0'], 'fish144_b': ['C:\\\\Users\\\\kmm171\\\\Desktop\\\\Data\\\\improv\\\\training_data\\\\20240125_7dpf\\\\144_eval3h2bgcamp6s_7dpf_unfed_mono_R_20240125\\\\img_stack_1']}\n"
     ]
    }
   ],
   "source": [
    "basefolder = r'C:\\Users\\kmm171\\Desktop\\Data\\gut_tectum\\20240205_7dpf'\n",
    "\n",
    "fish1 = r'C:\\Users\\kmm171\\Desktop\\Data\\improv\\training_data\\20240125_7dpf\\139_eval3h2bgcamp6s_7dpf_fed_mono_R_20240125'\n",
    "fish2 = r'C:\\Users\\kmm171\\Desktop\\Data\\improv\\training_data\\20240125_7dpf\\140b_eval3h2bgcamp6s_7dpf_fed_mono_R_20240125'\n",
    "fish3 = r'C:\\Users\\kmm171\\Desktop\\Data\\improv\\training_data\\20240125_7dpf\\141_eval3h2bgcamp6s_7dpf_fed_mono_R_20240125'\n",
    "fish4 = r'C:\\Users\\kmm171\\Desktop\\Data\\improv\\training_data\\20240125_7dpf\\142_eval3h2bgcamp6s_7dpf_fed_mono_R_20240125'\n",
    "fish5 = r'C:\\Users\\kmm171\\Desktop\\Data\\improv\\training_data\\20240125_7dpf\\143_eval3h2bgcamp6s_7dpf_unfed_mono_R_20240125'\n",
    "fish6 = r'C:\\Users\\kmm171\\Desktop\\Data\\improv\\training_data\\20240125_7dpf\\144_eval3h2bgcamp6s_7dpf_unfed_mono_R_20240125'\n",
    "\n",
    "fishpaths = {\n",
    "\n",
    "    \"fish\" + \"139_a\" : pathcrawler(fish1, set(), [], \"img_stack_0\"),\n",
    "    \"fish\" + \"139_b\" : pathcrawler(fish1, set(), [], \"img_stack_1\"),\n",
    "    \"fish\" + \"140b_a\" : pathcrawler(fish2, set(), [], \"img_stack_0\"),\n",
    "    \"fish\" + \"140b_b\" : pathcrawler(fish2, set(), [], \"img_stack_1\"),\n",
    "    \"fish\" + \"141_a\" : pathcrawler(fish3, set(), [], \"img_stack_0\"),\n",
    "    \"fish\" + \"141_b\" : pathcrawler(fish3, set(), [], \"img_stack_1\"),\n",
    "    \"fish\" + \"142_a\" : pathcrawler(fish4, set(), [], \"img_stack_0\"),\n",
    "    \"fish\" + \"142_b\" : pathcrawler(fish4, set(), [], \"img_stack_1\"),\n",
    "    \"fish\" + \"143_a\" : pathcrawler(fish5, set(), [], \"img_stack_0\"),\n",
    "    \"fish\" + \"143_b\" : pathcrawler(fish5, set(), [], \"img_stack_1\"),\n",
    "    \"fish\" + \"144_a\" : pathcrawler(fish6, set(), [], \"img_stack_0\"),\n",
    "    \"fish\" + \"144_b\" : pathcrawler(fish6, set(), [], \"img_stack_1\"),\n",
    "\n",
    "}\n",
    "renametxtfile(fishpaths)\n",
    "print(fishpaths)"
   ],
   "metadata": {
    "collapsed": false
   }
  },
  {
   "cell_type": "code",
   "execution_count": 9,
   "outputs": [],
   "source": [
    "volume = False\n",
    "old = False\n",
    "input_tau = 1.5"
   ],
   "metadata": {
    "collapsed": false
   }
  },
  {
   "cell_type": "code",
   "execution_count": 10,
   "outputs": [
    {
     "name": "stderr",
     "output_type": "stream",
     "text": [
      "Movement correction of fish: 100%|██████████| 12/12 [00:00<00:00, 2174.25it/s]"
     ]
    },
    {
     "name": "stdout",
     "output_type": "stream",
     "text": [
      "dory found it\n",
      "dory found it\n",
      "dory found it\n",
      "dory found it\n",
      "dory found it\n",
      "dory found it\n",
      "dory found it\n",
      "dory found it\n",
      "dory found it\n",
      "dory found it\n",
      "dory found it\n",
      "dory found it\n"
     ]
    },
    {
     "name": "stderr",
     "output_type": "stream",
     "text": [
      "\n"
     ]
    }
   ],
   "source": [
    "#Create a class for each fish\n",
    "fishSchool = {}\n",
    "if not volume: #old means that I used the old json file and so the dictionary of stimulus from constants is different.\n",
    "    for fish, paths in fishpaths.items():\n",
    "        for path in paths:\n",
    "            dory = improv.Fish(path, stimkey=\"output\", old_stims=old)\n",
    "            fishSchool[f'{fish}'] = dory\n",
    "\n",
    "    #single movement correction\n",
    "    for key, fish in tqdm(fishSchool.items(), \"Movement correction of fish\"):\n",
    "        fish.singleMoveCorrection()\n",
    "\n",
    "elif volume:\n",
    "    #create a class for each fish\n",
    "    for fish, paths in fishpaths.items():\n",
    "        for path in paths:\n",
    "            volfish = improv.Fish(path, stimkey=\"output\")\n",
    "            fishSchool[f'{fish}'] = volfish\n",
    "\n",
    "    #split volumes\n",
    "    for fish, volfish in fishSchool.items():\n",
    "        if len(volfish.dataPaths['volumes']) == 0:\n",
    "            volfish.legacy_volumesplit(force=True, crop=False)\n",
    "        else:\n",
    "            print(\"found splitted volumes\")\n",
    "\n",
    "    #copy some files into each img_stack folder\n",
    "    for fish, datapath in fishpaths.items():\n",
    "        datapath = datapath[0]\n",
    "        basePath = Path(datapath)\n",
    "        fish_paths = []\n",
    "\n",
    "        with os.scandir(Path(datapath)) as entries:\n",
    "            for entry in entries:\n",
    "                if os.path.isdir(entry.path) and 'img_stack' in entry.name:\n",
    "                    fish_paths.append(entry.path)\n",
    "\n",
    "        for file_name in os.listdir(Path(datapath)):\n",
    "            if 'log' in file_name and file_name.endswith(\".txt\"):\n",
    "                log_source = datapath + \"\\\\\" + file_name\n",
    "                if os.path.isfile(log_source) and os.path.isfile(log_source):\n",
    "                    for destination in tqdm(fish_paths, desc=\"log files successfully copied\"):\n",
    "                        shutil.copy(log_source, destination)\n",
    "\n",
    "        for file_name in os.listdir(Path(datapath)):\n",
    "            if 'output' in file_name and file_name.endswith(\".txt\"):\n",
    "                output_source = datapath + \"\\\\\" + file_name\n",
    "                if os.path.isfile(output_source) and os.path.isfile(output_source):\n",
    "                    for destination in tqdm(fish_paths, desc=\"stim_output files successfully copied\"):\n",
    "                        shutil.copy(output_source, destination)\n",
    "\n",
    "        for file_name in os.listdir(Path(datapath)):\n",
    "            if 'stim_details' in file_name and file_name.endswith(\".txt\"):\n",
    "                output_source = datapath + \"\\\\\" + file_name\n",
    "                if os.path.isfile(output_source) and os.path.isfile(output_source):\n",
    "                    for destination in tqdm(fish_paths, desc=\"stim_output files successfully copied\"):\n",
    "                        shutil.copy(output_source, destination)\n",
    "\n",
    "    #volume movement correction\n",
    "    for fish, volfish in fishSchool.items():\n",
    "        volfish.volumeMoveCorrection()\n",
    "\n",
    "    #moves original image into the original_image folder after movement correction\n",
    "    for key, fishes in tqdm(fishpaths.items(), \"Moving original image of fish\"):\n",
    "        for fish in fishes:\n",
    "            img_stack_path = pathcrawler(f\"{fish}\", set(), [], \"img_stack\")\n",
    "            for stack in img_stack_path:\n",
    "                moveoriginalimage(stack)\n",
    "    '''\n",
    "    else:\n",
    "        for fish, paths in fishpaths.items():\n",
    "            for path in paths:\n",
    "                dory = legacy.Fish(path, stimkey=\"output\")\n",
    "                fishSchool[f'{fish}'] = dory\n",
    "\n",
    "        single movement correction\n",
    "        for key, fish in tqdm(fishSchool.items(), \"Movement correction of fish\"):\n",
    "            fish.singleMoveCorrection()\n",
    "    '''"
   ],
   "metadata": {
    "collapsed": false
   }
  },
  {
   "cell_type": "code",
   "execution_count": null,
   "outputs": [],
   "source": [
    "#move original image file to the original_image folder.\n",
    "for key, fishes in tqdm(fishpaths.items(), \"Moving original image of fish\"):\n",
    "    for fish in fishes:\n",
    "        moveoriginalimage(fish)"
   ],
   "metadata": {
    "collapsed": false
   }
  },
  {
   "cell_type": "markdown",
   "source": [
    "## Before proceeding, create masks"
   ],
   "metadata": {
    "collapsed": false
   }
  },
  {
   "cell_type": "markdown",
   "source": [
    "## Cell identification - Suite2P"
   ],
   "metadata": {
    "collapsed": false
   }
  },
  {
   "cell_type": "code",
   "execution_count": 11,
   "outputs": [
    {
     "name": "stderr",
     "output_type": "stream",
     "text": [
      "cell detection of fish:   0%|          | 0/12 [00:00<?, ?it/s]"
     ]
    },
    {
     "name": "stdout",
     "output_type": "stream",
     "text": [
      "{}\n",
      "tif\n",
      "** Found 1 tifs - converting to binary **\n",
      "time 2.95 sec. Wrote 748 frames per binary for 1 planes\n",
      ">>>>>>>>>>>>>>>>>>>>> PLANE 0 <<<<<<<<<<<<<<<<<<<<<<\n",
      "NOTE: not registered / registration forced with ops['do_registration']>1\n",
      "      (no previous offsets to delete)\n",
      "NOTE: applying default C:\\Users\\kmm171\\.suite2p\\classifiers\\classifier_user.npy\n",
      "----------- REGISTRATION\n",
      "Reference frame, 8.49 sec.\n",
      "Registered 500/748 in 321.52s\n",
      "Registered 748/748 in 494.02s\n"
     ]
    },
    {
     "name": "stderr",
     "output_type": "stream",
     "text": [
      "C:\\Users\\kmm171\\AppData\\Roaming\\Python\\Python39\\site-packages\\suite2p\\registration\\register.py:45: RuntimeWarning: invalid value encountered in divide\n",
      "  dxy = dxy / dxy.mean()\n"
     ]
    },
    {
     "name": "stdout",
     "output_type": "stream",
     "text": [
      "----------- Total 510.37 sec\n",
      "----------- ROI DETECTION\n",
      "Binning movie in chunks of length 01\n",
      "Binned movie of size [748,392,392] created in 0.60 sec.\n"
     ]
    },
    {
     "name": "stderr",
     "output_type": "stream",
     "text": [
      "C:\\Users\\kmm171\\AppData\\Roaming\\Python\\Python39\\site-packages\\suite2p\\detection\\sparsedetect.py:270: UserWarning: Spatial scale estimation failed.  Setting spatial scale to 1 in order to continue.\n",
      "  warn(\"Spatial scale estimation failed.  Setting spatial scale to 1 in order to continue.\")\n"
     ]
    },
    {
     "name": "stdout",
     "output_type": "stream",
     "text": [
      "NOTE: FORCED spatial scale ~6 pixels, time epochs 1.00, threshold 5.00 \n",
      "0 ROIs, score=48.41\n",
      "1000 ROIs, score=22.33\n",
      "2000 ROIs, score=19.64\n",
      "3000 ROIs, score=17.61\n",
      "4000 ROIs, score=16.03\n",
      "Detected 5000 ROIs, 23.62 sec\n",
      "['npix_norm', 'compact']\n",
      "Preclassify threshold 0.15, 2723 ROIs removed\n",
      "After removing overlaps, 2232 ROIs remain\n",
      "----------- Total 28.53 sec.\n",
      "----------- EXTRACTION\n",
      "Masks created, 1.91 sec.\n",
      "Extracted fluorescence from 2232 ROIs in 748 frames, 1.69 sec.\n",
      "----------- Total 3.84 sec.\n",
      "----------- CLASSIFICATION\n",
      "['npix_norm', 'skew', 'compact']\n",
      "----------- SPIKE DECONVOLUTION\n",
      "----------- Total 0.12 sec.\n",
      "Plane 0 processed in 543.08 sec (can open in GUI).\n",
      "total = 546.20 sec.\n",
      "TOTAL RUNTIME 546.20 sec\n"
     ]
    },
    {
     "name": "stderr",
     "output_type": "stream",
     "text": [
      "cell detection of fish:   8%|▊         | 1/12 [09:06<1:40:08, 546.21s/it]"
     ]
    },
    {
     "name": "stdout",
     "output_type": "stream",
     "text": [
      "{}\n",
      "tif\n",
      "** Found 1 tifs - converting to binary **\n",
      "time 5.75 sec. Wrote 748 frames per binary for 1 planes\n",
      ">>>>>>>>>>>>>>>>>>>>> PLANE 0 <<<<<<<<<<<<<<<<<<<<<<\n",
      "NOTE: not registered / registration forced with ops['do_registration']>1\n",
      "      (no previous offsets to delete)\n",
      "NOTE: applying default C:\\Users\\kmm171\\.suite2p\\classifiers\\classifier_user.npy\n",
      "----------- REGISTRATION\n",
      "Reference frame, 8.47 sec.\n",
      "Registered 500/748 in 324.46s\n",
      "Registered 748/748 in 501.02s\n"
     ]
    },
    {
     "name": "stderr",
     "output_type": "stream",
     "text": [
      "C:\\Users\\kmm171\\AppData\\Roaming\\Python\\Python39\\site-packages\\suite2p\\registration\\register.py:45: RuntimeWarning: invalid value encountered in divide\n",
      "  dxy = dxy / dxy.mean()\n"
     ]
    },
    {
     "name": "stdout",
     "output_type": "stream",
     "text": [
      "----------- Total 517.15 sec\n",
      "----------- ROI DETECTION\n",
      "Binning movie in chunks of length 02\n",
      "Binned movie of size [374,392,392] created in 0.49 sec.\n"
     ]
    },
    {
     "name": "stderr",
     "output_type": "stream",
     "text": [
      "C:\\Users\\kmm171\\AppData\\Roaming\\Python\\Python39\\site-packages\\suite2p\\detection\\sparsedetect.py:270: UserWarning: Spatial scale estimation failed.  Setting spatial scale to 1 in order to continue.\n",
      "  warn(\"Spatial scale estimation failed.  Setting spatial scale to 1 in order to continue.\")\n"
     ]
    },
    {
     "name": "stdout",
     "output_type": "stream",
     "text": [
      "NOTE: FORCED spatial scale ~6 pixels, time epochs 1.00, threshold 5.00 \n",
      "0 ROIs, score=55.05\n",
      "1000 ROIs, score=14.57\n",
      "2000 ROIs, score=12.50\n",
      "3000 ROIs, score=11.01\n",
      "4000 ROIs, score=9.83\n",
      "Detected 5000 ROIs, 18.56 sec\n",
      "['npix_norm', 'compact']\n",
      "Preclassify threshold 0.15, 4214 ROIs removed\n",
      "After removing overlaps, 777 ROIs remain\n",
      "----------- Total 24.41 sec.\n",
      "----------- EXTRACTION\n",
      "Masks created, 0.72 sec.\n",
      "Extracted fluorescence from 777 ROIs in 748 frames, 0.96 sec.\n",
      "----------- Total 1.88 sec.\n",
      "----------- CLASSIFICATION\n",
      "['npix_norm', 'skew', 'compact']\n",
      "----------- SPIKE DECONVOLUTION\n",
      "----------- Total 0.05 sec.\n",
      "Plane 0 processed in 543.62 sec (can open in GUI).\n",
      "total = 549.54 sec.\n",
      "TOTAL RUNTIME 549.54 sec\n"
     ]
    },
    {
     "name": "stderr",
     "output_type": "stream",
     "text": [
      "cell detection of fish:  17%|█▋        | 2/12 [18:15<1:31:21, 548.20s/it]"
     ]
    },
    {
     "name": "stdout",
     "output_type": "stream",
     "text": [
      "{}\n",
      "tif\n",
      "** Found 1 tifs - converting to binary **\n",
      "time 2.64 sec. Wrote 746 frames per binary for 1 planes\n",
      ">>>>>>>>>>>>>>>>>>>>> PLANE 0 <<<<<<<<<<<<<<<<<<<<<<\n",
      "NOTE: not registered / registration forced with ops['do_registration']>1\n",
      "      (no previous offsets to delete)\n",
      "NOTE: applying default C:\\Users\\kmm171\\.suite2p\\classifiers\\classifier_user.npy\n",
      "----------- REGISTRATION\n",
      "Reference frame, 8.46 sec.\n",
      "Registered 500/746 in 336.61s\n",
      "Registered 746/746 in 514.25s\n"
     ]
    },
    {
     "name": "stderr",
     "output_type": "stream",
     "text": [
      "C:\\Users\\kmm171\\AppData\\Roaming\\Python\\Python39\\site-packages\\suite2p\\registration\\register.py:45: RuntimeWarning: invalid value encountered in divide\n",
      "  dxy = dxy / dxy.mean()\n"
     ]
    },
    {
     "name": "stdout",
     "output_type": "stream",
     "text": [
      "----------- Total 530.31 sec\n",
      "----------- ROI DETECTION\n",
      "Binning movie in chunks of length 02\n",
      "Binned movie of size [373,392,392] created in 0.52 sec.\n"
     ]
    },
    {
     "name": "stderr",
     "output_type": "stream",
     "text": [
      "C:\\Users\\kmm171\\AppData\\Roaming\\Python\\Python39\\site-packages\\suite2p\\detection\\sparsedetect.py:270: UserWarning: Spatial scale estimation failed.  Setting spatial scale to 1 in order to continue.\n",
      "  warn(\"Spatial scale estimation failed.  Setting spatial scale to 1 in order to continue.\")\n"
     ]
    },
    {
     "name": "stdout",
     "output_type": "stream",
     "text": [
      "NOTE: FORCED spatial scale ~6 pixels, time epochs 1.00, threshold 5.00 \n",
      "0 ROIs, score=59.51\n",
      "1000 ROIs, score=14.57\n",
      "2000 ROIs, score=12.41\n",
      "3000 ROIs, score=10.97\n",
      "4000 ROIs, score=9.88\n",
      "Detected 5000 ROIs, 18.87 sec\n",
      "['npix_norm', 'compact']\n",
      "Preclassify threshold 0.15, 4138 ROIs removed\n",
      "After removing overlaps, 847 ROIs remain\n",
      "----------- Total 24.84 sec.\n",
      "----------- EXTRACTION\n",
      "Masks created, 0.76 sec.\n",
      "Extracted fluorescence from 847 ROIs in 746 frames, 0.98 sec.\n",
      "----------- Total 1.94 sec.\n",
      "----------- CLASSIFICATION\n",
      "['npix_norm', 'skew', 'compact']\n",
      "----------- SPIKE DECONVOLUTION\n",
      "----------- Total 0.04 sec.\n",
      "Plane 0 processed in 557.29 sec (can open in GUI).\n",
      "total = 560.07 sec.\n",
      "TOTAL RUNTIME 560.07 sec\n"
     ]
    },
    {
     "name": "stderr",
     "output_type": "stream",
     "text": [
      "cell detection of fish:  25%|██▌       | 3/12 [27:35<1:23:02, 553.62s/it]"
     ]
    },
    {
     "name": "stdout",
     "output_type": "stream",
     "text": [
      "{}\n",
      "tif\n",
      "** Found 1 tifs - converting to binary **\n",
      "time 3.05 sec. Wrote 747 frames per binary for 1 planes\n",
      ">>>>>>>>>>>>>>>>>>>>> PLANE 0 <<<<<<<<<<<<<<<<<<<<<<\n",
      "NOTE: not registered / registration forced with ops['do_registration']>1\n",
      "      (no previous offsets to delete)\n",
      "NOTE: applying default C:\\Users\\kmm171\\.suite2p\\classifiers\\classifier_user.npy\n",
      "----------- REGISTRATION\n",
      "Reference frame, 8.30 sec.\n",
      "Registered 500/747 in 448.26s\n",
      "Registered 747/747 in 680.71s\n"
     ]
    },
    {
     "name": "stderr",
     "output_type": "stream",
     "text": [
      "C:\\Users\\kmm171\\AppData\\Roaming\\Python\\Python39\\site-packages\\suite2p\\registration\\register.py:45: RuntimeWarning: invalid value encountered in divide\n",
      "  dxy = dxy / dxy.mean()\n"
     ]
    },
    {
     "name": "stdout",
     "output_type": "stream",
     "text": [
      "----------- Total 696.98 sec\n",
      "----------- ROI DETECTION\n",
      "Binning movie in chunks of length 01\n",
      "Binned movie of size [747,392,392] created in 0.62 sec.\n"
     ]
    },
    {
     "name": "stderr",
     "output_type": "stream",
     "text": [
      "C:\\Users\\kmm171\\AppData\\Roaming\\Python\\Python39\\site-packages\\suite2p\\detection\\sparsedetect.py:270: UserWarning: Spatial scale estimation failed.  Setting spatial scale to 1 in order to continue.\n",
      "  warn(\"Spatial scale estimation failed.  Setting spatial scale to 1 in order to continue.\")\n"
     ]
    },
    {
     "name": "stdout",
     "output_type": "stream",
     "text": [
      "NOTE: FORCED spatial scale ~6 pixels, time epochs 1.00, threshold 5.00 \n",
      "0 ROIs, score=96.12\n",
      "1000 ROIs, score=22.85\n",
      "2000 ROIs, score=20.19\n",
      "3000 ROIs, score=18.07\n",
      "4000 ROIs, score=16.37\n",
      "Detected 5000 ROIs, 24.64 sec\n",
      "['npix_norm', 'compact']\n",
      "Preclassify threshold 0.15, 3019 ROIs removed\n",
      "After removing overlaps, 1932 ROIs remain\n",
      "----------- Total 29.61 sec.\n",
      "----------- EXTRACTION\n",
      "Masks created, 1.61 sec.\n",
      "Extracted fluorescence from 1932 ROIs in 747 frames, 1.50 sec.\n",
      "----------- Total 3.35 sec.\n",
      "----------- CLASSIFICATION\n",
      "['npix_norm', 'skew', 'compact']\n",
      "----------- SPIKE DECONVOLUTION\n",
      "----------- Total 0.10 sec.\n",
      "Plane 0 processed in 730.27 sec (can open in GUI).\n",
      "total = 733.49 sec.\n",
      "TOTAL RUNTIME 733.49 sec\n"
     ]
    },
    {
     "name": "stderr",
     "output_type": "stream",
     "text": [
      "cell detection of fish:  33%|███▎      | 4/12 [39:49<1:23:17, 624.65s/it]"
     ]
    },
    {
     "name": "stdout",
     "output_type": "stream",
     "text": [
      "{}\n",
      "tif\n",
      "** Found 1 tifs - converting to binary **\n",
      "time 3.81 sec. Wrote 747 frames per binary for 1 planes\n",
      ">>>>>>>>>>>>>>>>>>>>> PLANE 0 <<<<<<<<<<<<<<<<<<<<<<\n",
      "NOTE: not registered / registration forced with ops['do_registration']>1\n",
      "      (no previous offsets to delete)\n",
      "NOTE: applying default C:\\Users\\kmm171\\.suite2p\\classifiers\\classifier_user.npy\n",
      "----------- REGISTRATION\n",
      "Reference frame, 12.63 sec.\n",
      "Registered 500/747 in 425.10s\n",
      "Registered 747/747 in 646.27s\n"
     ]
    },
    {
     "name": "stderr",
     "output_type": "stream",
     "text": [
      "C:\\Users\\kmm171\\AppData\\Roaming\\Python\\Python39\\site-packages\\suite2p\\registration\\register.py:45: RuntimeWarning: invalid value encountered in divide\n",
      "  dxy = dxy / dxy.mean()\n"
     ]
    },
    {
     "name": "stdout",
     "output_type": "stream",
     "text": [
      "----------- Total 666.57 sec\n",
      "----------- ROI DETECTION\n",
      "Binning movie in chunks of length 02\n",
      "Binned movie of size [373,388,388] created in 0.50 sec.\n"
     ]
    },
    {
     "name": "stderr",
     "output_type": "stream",
     "text": [
      "C:\\Users\\kmm171\\AppData\\Roaming\\Python\\Python39\\site-packages\\suite2p\\detection\\sparsedetect.py:270: UserWarning: Spatial scale estimation failed.  Setting spatial scale to 1 in order to continue.\n",
      "  warn(\"Spatial scale estimation failed.  Setting spatial scale to 1 in order to continue.\")\n"
     ]
    },
    {
     "name": "stdout",
     "output_type": "stream",
     "text": [
      "NOTE: FORCED spatial scale ~6 pixels, time epochs 1.00, threshold 5.00 \n",
      "0 ROIs, score=73.69\n",
      "1000 ROIs, score=14.07\n",
      "2000 ROIs, score=11.92\n",
      "3000 ROIs, score=10.42\n",
      "4000 ROIs, score=9.29\n",
      "Detected 5000 ROIs, 19.00 sec\n",
      "['npix_norm', 'compact']\n",
      "Preclassify threshold 0.15, 4248 ROIs removed\n",
      "After removing overlaps, 731 ROIs remain\n",
      "----------- Total 25.51 sec.\n",
      "----------- EXTRACTION\n",
      "Masks created, 0.71 sec.\n",
      "Extracted fluorescence from 731 ROIs in 747 frames, 0.98 sec.\n",
      "----------- Total 1.89 sec.\n",
      "----------- CLASSIFICATION\n",
      "['npix_norm', 'skew', 'compact']\n",
      "----------- SPIKE DECONVOLUTION\n",
      "----------- Total 0.08 sec.\n",
      "Plane 0 processed in 694.19 sec (can open in GUI).\n",
      "total = 698.16 sec.\n",
      "TOTAL RUNTIME 698.17 sec\n"
     ]
    },
    {
     "name": "stderr",
     "output_type": "stream",
     "text": [
      "cell detection of fish:  42%|████▏     | 5/12 [51:27<1:15:58, 651.18s/it]"
     ]
    },
    {
     "name": "stdout",
     "output_type": "stream",
     "text": [
      "{}\n",
      "tif\n",
      "** Found 1 tifs - converting to binary **\n",
      "time 3.86 sec. Wrote 743 frames per binary for 1 planes\n",
      ">>>>>>>>>>>>>>>>>>>>> PLANE 0 <<<<<<<<<<<<<<<<<<<<<<\n",
      "NOTE: not registered / registration forced with ops['do_registration']>1\n",
      "      (no previous offsets to delete)\n",
      "NOTE: applying default C:\\Users\\kmm171\\.suite2p\\classifiers\\classifier_user.npy\n",
      "----------- REGISTRATION\n",
      "Reference frame, 13.37 sec.\n",
      "Registered 500/743 in 486.70s\n",
      "Registered 743/743 in 710.51s\n"
     ]
    },
    {
     "name": "stderr",
     "output_type": "stream",
     "text": [
      "C:\\Users\\kmm171\\AppData\\Roaming\\Python\\Python39\\site-packages\\suite2p\\registration\\register.py:45: RuntimeWarning: invalid value encountered in divide\n",
      "  dxy = dxy / dxy.mean()\n"
     ]
    },
    {
     "name": "stdout",
     "output_type": "stream",
     "text": [
      "----------- Total 731.36 sec\n",
      "----------- ROI DETECTION\n",
      "Binning movie in chunks of length 01\n",
      "Binned movie of size [743,388,388] created in 0.58 sec.\n"
     ]
    },
    {
     "name": "stderr",
     "output_type": "stream",
     "text": [
      "C:\\Users\\kmm171\\AppData\\Roaming\\Python\\Python39\\site-packages\\suite2p\\detection\\sparsedetect.py:270: UserWarning: Spatial scale estimation failed.  Setting spatial scale to 1 in order to continue.\n",
      "  warn(\"Spatial scale estimation failed.  Setting spatial scale to 1 in order to continue.\")\n"
     ]
    },
    {
     "name": "stdout",
     "output_type": "stream",
     "text": [
      "NOTE: FORCED spatial scale ~6 pixels, time epochs 1.00, threshold 5.00 \n",
      "0 ROIs, score=75.65\n",
      "1000 ROIs, score=22.28\n",
      "2000 ROIs, score=19.36\n",
      "3000 ROIs, score=17.24\n",
      "4000 ROIs, score=15.51\n",
      "Detected 5000 ROIs, 23.71 sec\n",
      "['npix_norm', 'compact']\n",
      "Preclassify threshold 0.15, 3444 ROIs removed\n",
      "After removing overlaps, 1526 ROIs remain\n",
      "----------- Total 28.39 sec.\n",
      "----------- EXTRACTION\n",
      "Masks created, 1.23 sec.\n",
      "Extracted fluorescence from 1526 ROIs in 743 frames, 1.38 sec.\n",
      "----------- Total 2.83 sec.\n",
      "----------- CLASSIFICATION\n",
      "['npix_norm', 'skew', 'compact']\n",
      "----------- SPIKE DECONVOLUTION\n",
      "----------- Total 0.08 sec.\n",
      "Plane 0 processed in 762.86 sec (can open in GUI).\n",
      "total = 766.90 sec.\n",
      "TOTAL RUNTIME 766.90 sec\n"
     ]
    },
    {
     "name": "stderr",
     "output_type": "stream",
     "text": [
      "cell detection of fish:  50%|█████     | 6/12 [1:04:14<1:09:03, 690.54s/it]"
     ]
    },
    {
     "name": "stdout",
     "output_type": "stream",
     "text": [
      "{}\n",
      "tif\n",
      "** Found 1 tifs - converting to binary **\n",
      "time 4.15 sec. Wrote 749 frames per binary for 1 planes\n",
      ">>>>>>>>>>>>>>>>>>>>> PLANE 0 <<<<<<<<<<<<<<<<<<<<<<\n",
      "NOTE: not registered / registration forced with ops['do_registration']>1\n",
      "      (no previous offsets to delete)\n",
      "NOTE: applying default C:\\Users\\kmm171\\.suite2p\\classifiers\\classifier_user.npy\n",
      "----------- REGISTRATION\n",
      "Reference frame, 8.28 sec.\n",
      "Registered 500/749 in 416.42s\n",
      "Registered 749/749 in 639.83s\n"
     ]
    },
    {
     "name": "stderr",
     "output_type": "stream",
     "text": [
      "C:\\Users\\kmm171\\AppData\\Roaming\\Python\\Python39\\site-packages\\suite2p\\registration\\register.py:45: RuntimeWarning: invalid value encountered in divide\n",
      "  dxy = dxy / dxy.mean()\n"
     ]
    },
    {
     "name": "stdout",
     "output_type": "stream",
     "text": [
      "----------- Total 656.04 sec\n",
      "----------- ROI DETECTION\n",
      "Binning movie in chunks of length 01\n",
      "Binned movie of size [749,392,392] created in 0.62 sec.\n"
     ]
    },
    {
     "name": "stderr",
     "output_type": "stream",
     "text": [
      "C:\\Users\\kmm171\\AppData\\Roaming\\Python\\Python39\\site-packages\\suite2p\\detection\\sparsedetect.py:270: UserWarning: Spatial scale estimation failed.  Setting spatial scale to 1 in order to continue.\n",
      "  warn(\"Spatial scale estimation failed.  Setting spatial scale to 1 in order to continue.\")\n"
     ]
    },
    {
     "name": "stdout",
     "output_type": "stream",
     "text": [
      "NOTE: FORCED spatial scale ~6 pixels, time epochs 1.00, threshold 5.00 \n",
      "0 ROIs, score=80.80\n",
      "1000 ROIs, score=23.20\n",
      "2000 ROIs, score=20.49\n",
      "3000 ROIs, score=18.37\n",
      "4000 ROIs, score=16.67\n",
      "Detected 5000 ROIs, 24.75 sec\n",
      "['npix_norm', 'compact']\n",
      "Preclassify threshold 0.15, 4144 ROIs removed\n",
      "After removing overlaps, 848 ROIs remain\n",
      "----------- Total 29.06 sec.\n",
      "----------- EXTRACTION\n",
      "Masks created, 0.77 sec.\n",
      "Extracted fluorescence from 848 ROIs in 749 frames, 1.02 sec.\n",
      "----------- Total 2.00 sec.\n",
      "----------- CLASSIFICATION\n",
      "['npix_norm', 'skew', 'compact']\n",
      "----------- SPIKE DECONVOLUTION\n",
      "----------- Total 0.06 sec.\n",
      "Plane 0 processed in 687.29 sec (can open in GUI).\n",
      "total = 691.71 sec.\n",
      "TOTAL RUNTIME 691.71 sec\n"
     ]
    },
    {
     "name": "stderr",
     "output_type": "stream",
     "text": [
      "cell detection of fish:  58%|█████▊    | 7/12 [1:15:46<57:34, 690.95s/it]  "
     ]
    },
    {
     "name": "stdout",
     "output_type": "stream",
     "text": [
      "{}\n",
      "tif\n",
      "** Found 1 tifs - converting to binary **\n",
      "time 2.60 sec. Wrote 748 frames per binary for 1 planes\n",
      ">>>>>>>>>>>>>>>>>>>>> PLANE 0 <<<<<<<<<<<<<<<<<<<<<<\n",
      "NOTE: not registered / registration forced with ops['do_registration']>1\n",
      "      (no previous offsets to delete)\n",
      "NOTE: applying default C:\\Users\\kmm171\\.suite2p\\classifiers\\classifier_user.npy\n",
      "----------- REGISTRATION\n",
      "Reference frame, 8.12 sec.\n",
      "Registered 500/748 in 419.64s\n",
      "Registered 748/748 in 645.60s\n"
     ]
    },
    {
     "name": "stderr",
     "output_type": "stream",
     "text": [
      "C:\\Users\\kmm171\\AppData\\Roaming\\Python\\Python39\\site-packages\\suite2p\\registration\\register.py:45: RuntimeWarning: invalid value encountered in divide\n",
      "  dxy = dxy / dxy.mean()\n"
     ]
    },
    {
     "name": "stdout",
     "output_type": "stream",
     "text": [
      "----------- Total 661.39 sec\n",
      "----------- ROI DETECTION\n",
      "Binning movie in chunks of length 01\n",
      "Binned movie of size [748,392,392] created in 0.60 sec.\n"
     ]
    },
    {
     "name": "stderr",
     "output_type": "stream",
     "text": [
      "C:\\Users\\kmm171\\AppData\\Roaming\\Python\\Python39\\site-packages\\suite2p\\detection\\sparsedetect.py:270: UserWarning: Spatial scale estimation failed.  Setting spatial scale to 1 in order to continue.\n",
      "  warn(\"Spatial scale estimation failed.  Setting spatial scale to 1 in order to continue.\")\n"
     ]
    },
    {
     "name": "stdout",
     "output_type": "stream",
     "text": [
      "NOTE: FORCED spatial scale ~6 pixels, time epochs 1.00, threshold 5.00 \n",
      "0 ROIs, score=57.00\n",
      "1000 ROIs, score=22.65\n",
      "2000 ROIs, score=19.90\n",
      "3000 ROIs, score=17.86\n",
      "4000 ROIs, score=16.10\n",
      "Detected 5000 ROIs, 24.18 sec\n",
      "['npix_norm', 'compact']\n",
      "Preclassify threshold 0.15, 3413 ROIs removed\n",
      "After removing overlaps, 1566 ROIs remain\n",
      "----------- Total 29.22 sec.\n",
      "----------- EXTRACTION\n",
      "Masks created, 1.43 sec.\n",
      "Extracted fluorescence from 1566 ROIs in 748 frames, 1.39 sec.\n",
      "----------- Total 3.03 sec.\n",
      "----------- CLASSIFICATION\n",
      "['npix_norm', 'skew', 'compact']\n",
      "----------- SPIKE DECONVOLUTION\n",
      "----------- Total 0.09 sec.\n",
      "Plane 0 processed in 693.92 sec (can open in GUI).\n",
      "total = 696.69 sec.\n",
      "TOTAL RUNTIME 696.70 sec\n"
     ]
    },
    {
     "name": "stderr",
     "output_type": "stream",
     "text": [
      "cell detection of fish:  67%|██████▋   | 8/12 [1:27:23<46:11, 692.78s/it]"
     ]
    },
    {
     "name": "stdout",
     "output_type": "stream",
     "text": [
      "{}\n",
      "tif\n",
      "** Found 1 tifs - converting to binary **\n",
      "time 2.53 sec. Wrote 749 frames per binary for 1 planes\n",
      ">>>>>>>>>>>>>>>>>>>>> PLANE 0 <<<<<<<<<<<<<<<<<<<<<<\n",
      "NOTE: not registered / registration forced with ops['do_registration']>1\n",
      "      (no previous offsets to delete)\n",
      "NOTE: applying default C:\\Users\\kmm171\\.suite2p\\classifiers\\classifier_user.npy\n",
      "----------- REGISTRATION\n",
      "Reference frame, 9.08 sec.\n",
      "Registered 500/749 in 454.45s\n",
      "Registered 749/749 in 688.11s\n"
     ]
    },
    {
     "name": "stderr",
     "output_type": "stream",
     "text": [
      "C:\\Users\\kmm171\\AppData\\Roaming\\Python\\Python39\\site-packages\\suite2p\\registration\\register.py:45: RuntimeWarning: invalid value encountered in divide\n",
      "  dxy = dxy / dxy.mean()\n"
     ]
    },
    {
     "name": "stdout",
     "output_type": "stream",
     "text": [
      "----------- Total 705.27 sec\n",
      "----------- ROI DETECTION\n",
      "Binning movie in chunks of length 01\n",
      "Binned movie of size [749,392,392] created in 0.62 sec.\n"
     ]
    },
    {
     "name": "stderr",
     "output_type": "stream",
     "text": [
      "C:\\Users\\kmm171\\AppData\\Roaming\\Python\\Python39\\site-packages\\suite2p\\detection\\sparsedetect.py:270: UserWarning: Spatial scale estimation failed.  Setting spatial scale to 1 in order to continue.\n",
      "  warn(\"Spatial scale estimation failed.  Setting spatial scale to 1 in order to continue.\")\n"
     ]
    },
    {
     "name": "stdout",
     "output_type": "stream",
     "text": [
      "NOTE: FORCED spatial scale ~6 pixels, time epochs 1.00, threshold 5.00 \n",
      "0 ROIs, score=83.07\n",
      "1000 ROIs, score=22.88\n",
      "2000 ROIs, score=20.22\n",
      "3000 ROIs, score=18.23\n",
      "4000 ROIs, score=16.63\n",
      "Detected 5000 ROIs, 24.90 sec\n",
      "['npix_norm', 'compact']\n",
      "Preclassify threshold 0.15, 2047 ROIs removed\n",
      "After removing overlaps, 2864 ROIs remain\n",
      "----------- Total 33.28 sec.\n",
      "----------- EXTRACTION\n",
      "Masks created, 2.95 sec.\n",
      "Extracted fluorescence from 2864 ROIs in 749 frames, 1.90 sec.\n",
      "----------- Total 5.11 sec.\n",
      "----------- CLASSIFICATION\n",
      "['npix_norm', 'skew', 'compact']\n",
      "----------- SPIKE DECONVOLUTION\n",
      "----------- Total 0.15 sec.\n",
      "Plane 0 processed in 744.13 sec (can open in GUI).\n",
      "total = 746.83 sec.\n",
      "TOTAL RUNTIME 746.83 sec\n"
     ]
    },
    {
     "name": "stderr",
     "output_type": "stream",
     "text": [
      "cell detection of fish:  75%|███████▌  | 9/12 [1:39:49<35:29, 709.68s/it]"
     ]
    },
    {
     "name": "stdout",
     "output_type": "stream",
     "text": [
      "{}\n",
      "tif\n",
      "** Found 1 tifs - converting to binary **\n",
      "time 4.03 sec. Wrote 749 frames per binary for 1 planes\n",
      ">>>>>>>>>>>>>>>>>>>>> PLANE 0 <<<<<<<<<<<<<<<<<<<<<<\n",
      "NOTE: not registered / registration forced with ops['do_registration']>1\n",
      "      (no previous offsets to delete)\n",
      "NOTE: applying default C:\\Users\\kmm171\\.suite2p\\classifiers\\classifier_user.npy\n",
      "----------- REGISTRATION\n",
      "Reference frame, 8.90 sec.\n",
      "Registered 500/749 in 456.16s\n",
      "Registered 749/749 in 681.18s\n"
     ]
    },
    {
     "name": "stderr",
     "output_type": "stream",
     "text": [
      "C:\\Users\\kmm171\\AppData\\Roaming\\Python\\Python39\\site-packages\\suite2p\\registration\\register.py:45: RuntimeWarning: invalid value encountered in divide\n",
      "  dxy = dxy / dxy.mean()\n"
     ]
    },
    {
     "name": "stdout",
     "output_type": "stream",
     "text": [
      "----------- Total 698.43 sec\n",
      "----------- ROI DETECTION\n",
      "Binning movie in chunks of length 01\n",
      "Binned movie of size [749,396,396] created in 0.57 sec.\n"
     ]
    },
    {
     "name": "stderr",
     "output_type": "stream",
     "text": [
      "C:\\Users\\kmm171\\AppData\\Roaming\\Python\\Python39\\site-packages\\suite2p\\detection\\sparsedetect.py:270: UserWarning: Spatial scale estimation failed.  Setting spatial scale to 1 in order to continue.\n",
      "  warn(\"Spatial scale estimation failed.  Setting spatial scale to 1 in order to continue.\")\n"
     ]
    },
    {
     "name": "stdout",
     "output_type": "stream",
     "text": [
      "NOTE: FORCED spatial scale ~6 pixels, time epochs 1.00, threshold 5.00 \n",
      "0 ROIs, score=96.20\n",
      "1000 ROIs, score=22.51\n",
      "2000 ROIs, score=20.06\n",
      "3000 ROIs, score=18.09\n",
      "4000 ROIs, score=16.43\n",
      "Detected 5000 ROIs, 23.69 sec\n",
      "['npix_norm', 'compact']\n",
      "Preclassify threshold 0.15, 2623 ROIs removed\n",
      "After removing overlaps, 2323 ROIs remain\n",
      "----------- Total 28.66 sec.\n",
      "----------- EXTRACTION\n",
      "Masks created, 1.97 sec.\n",
      "Extracted fluorescence from 2323 ROIs in 749 frames, 1.65 sec.\n",
      "----------- Total 3.88 sec.\n",
      "----------- CLASSIFICATION\n",
      "['npix_norm', 'skew', 'compact']\n",
      "----------- SPIKE DECONVOLUTION\n",
      "----------- Total 0.13 sec.\n",
      "Plane 0 processed in 731.31 sec (can open in GUI).\n",
      "total = 735.53 sec.\n",
      "TOTAL RUNTIME 735.53 sec\n"
     ]
    },
    {
     "name": "stderr",
     "output_type": "stream",
     "text": [
      "cell detection of fish:  83%|████████▎ | 10/12 [1:52:05<23:55, 717.68s/it]"
     ]
    },
    {
     "name": "stdout",
     "output_type": "stream",
     "text": [
      "{}\n",
      "tif\n",
      "** Found 1 tifs - converting to binary **\n",
      "time 4.21 sec. Wrote 750 frames per binary for 1 planes\n",
      ">>>>>>>>>>>>>>>>>>>>> PLANE 0 <<<<<<<<<<<<<<<<<<<<<<\n",
      "NOTE: not registered / registration forced with ops['do_registration']>1\n",
      "      (no previous offsets to delete)\n",
      "NOTE: applying default C:\\Users\\kmm171\\.suite2p\\classifiers\\classifier_user.npy\n",
      "----------- REGISTRATION\n",
      "Reference frame, 8.63 sec.\n",
      "Registered 500/750 in 414.91s\n",
      "Registered 750/750 in 637.71s\n"
     ]
    },
    {
     "name": "stderr",
     "output_type": "stream",
     "text": [
      "C:\\Users\\kmm171\\AppData\\Roaming\\Python\\Python39\\site-packages\\suite2p\\registration\\register.py:45: RuntimeWarning: invalid value encountered in divide\n",
      "  dxy = dxy / dxy.mean()\n"
     ]
    },
    {
     "name": "stdout",
     "output_type": "stream",
     "text": [
      "----------- Total 653.82 sec\n",
      "----------- ROI DETECTION\n",
      "Binning movie in chunks of length 01\n",
      "Binned movie of size [750,392,392] created in 0.61 sec.\n"
     ]
    },
    {
     "name": "stderr",
     "output_type": "stream",
     "text": [
      "C:\\Users\\kmm171\\AppData\\Roaming\\Python\\Python39\\site-packages\\suite2p\\detection\\sparsedetect.py:270: UserWarning: Spatial scale estimation failed.  Setting spatial scale to 1 in order to continue.\n",
      "  warn(\"Spatial scale estimation failed.  Setting spatial scale to 1 in order to continue.\")\n"
     ]
    },
    {
     "name": "stdout",
     "output_type": "stream",
     "text": [
      "NOTE: FORCED spatial scale ~6 pixels, time epochs 1.00, threshold 5.00 \n",
      "0 ROIs, score=54.73\n",
      "1000 ROIs, score=22.41\n",
      "2000 ROIs, score=19.90\n",
      "3000 ROIs, score=17.86\n",
      "4000 ROIs, score=16.20\n",
      "Detected 5000 ROIs, 24.15 sec\n",
      "['npix_norm', 'compact']\n",
      "Preclassify threshold 0.15, 1649 ROIs removed\n",
      "After removing overlaps, 3210 ROIs remain\n",
      "----------- Total 29.43 sec.\n",
      "----------- EXTRACTION\n",
      "Masks created, 2.54 sec.\n",
      "Extracted fluorescence from 3210 ROIs in 750 frames, 2.12 sec.\n",
      "----------- Total 4.95 sec.\n",
      "----------- CLASSIFICATION\n",
      "['npix_norm', 'skew', 'compact']\n",
      "----------- SPIKE DECONVOLUTION\n",
      "----------- Total 0.18 sec.\n",
      "Plane 0 processed in 688.68 sec (can open in GUI).\n",
      "total = 693.06 sec.\n",
      "TOTAL RUNTIME 693.06 sec\n"
     ]
    },
    {
     "name": "stderr",
     "output_type": "stream",
     "text": [
      "cell detection of fish:  92%|█████████▏| 11/12 [2:03:38<11:50, 710.15s/it]"
     ]
    },
    {
     "name": "stdout",
     "output_type": "stream",
     "text": [
      "{}\n",
      "tif\n",
      "** Found 1 tifs - converting to binary **\n",
      "time 2.44 sec. Wrote 749 frames per binary for 1 planes\n",
      ">>>>>>>>>>>>>>>>>>>>> PLANE 0 <<<<<<<<<<<<<<<<<<<<<<\n",
      "NOTE: not registered / registration forced with ops['do_registration']>1\n",
      "      (no previous offsets to delete)\n",
      "NOTE: applying default C:\\Users\\kmm171\\.suite2p\\classifiers\\classifier_user.npy\n",
      "----------- REGISTRATION\n",
      "Reference frame, 8.30 sec.\n",
      "Registered 500/749 in 417.42s\n",
      "Registered 749/749 in 640.96s\n"
     ]
    },
    {
     "name": "stderr",
     "output_type": "stream",
     "text": [
      "C:\\Users\\kmm171\\AppData\\Roaming\\Python\\Python39\\site-packages\\suite2p\\registration\\register.py:45: RuntimeWarning: invalid value encountered in divide\n",
      "  dxy = dxy / dxy.mean()\n"
     ]
    },
    {
     "name": "stdout",
     "output_type": "stream",
     "text": [
      "----------- Total 656.80 sec\n",
      "----------- ROI DETECTION\n",
      "Binning movie in chunks of length 01\n",
      "Binned movie of size [749,392,392] created in 0.60 sec.\n"
     ]
    },
    {
     "name": "stderr",
     "output_type": "stream",
     "text": [
      "C:\\Users\\kmm171\\AppData\\Roaming\\Python\\Python39\\site-packages\\suite2p\\detection\\sparsedetect.py:270: UserWarning: Spatial scale estimation failed.  Setting spatial scale to 1 in order to continue.\n",
      "  warn(\"Spatial scale estimation failed.  Setting spatial scale to 1 in order to continue.\")\n"
     ]
    },
    {
     "name": "stdout",
     "output_type": "stream",
     "text": [
      "NOTE: FORCED spatial scale ~6 pixels, time epochs 1.00, threshold 5.00 \n",
      "0 ROIs, score=44.75\n",
      "1000 ROIs, score=21.76\n",
      "2000 ROIs, score=18.90\n",
      "3000 ROIs, score=16.79\n",
      "4000 ROIs, score=15.10\n",
      "Detected 5000 ROIs, 23.00 sec\n",
      "['npix_norm', 'compact']\n",
      "Preclassify threshold 0.15, 1725 ROIs removed\n",
      "After removing overlaps, 3103 ROIs remain\n",
      "----------- Total 28.39 sec.\n",
      "----------- EXTRACTION\n",
      "Masks created, 2.51 sec.\n",
      "Extracted fluorescence from 3103 ROIs in 749 frames, 1.93 sec.\n",
      "----------- Total 4.71 sec.\n",
      "----------- CLASSIFICATION\n",
      "['npix_norm', 'skew', 'compact']\n",
      "----------- SPIKE DECONVOLUTION\n",
      "----------- Total 0.16 sec.\n",
      "Plane 0 processed in 690.32 sec (can open in GUI).\n",
      "total = 692.93 sec.\n",
      "TOTAL RUNTIME 692.93 sec\n"
     ]
    },
    {
     "name": "stderr",
     "output_type": "stream",
     "text": [
      "cell detection of fish: 100%|██████████| 12/12 [2:15:11<00:00, 675.96s/it]\n"
     ]
    }
   ],
   "source": [
    "if volume:\n",
    "    for fish, volfish in fishSchool.items():\n",
    "        volfish.volumeSuite2p(input_tau=input_tau, force=True)\n",
    "else:\n",
    "    for fish, volfish in tqdm(fishSchool.items(), \"cell detection of fish\"):\n",
    "            volfish.singleSuite2p(input_tau=input_tau)"
   ],
   "metadata": {
    "collapsed": false
   }
  },
  {
   "cell_type": "code",
   "execution_count": 7,
   "outputs": [
    {
     "name": "stdout",
     "output_type": "stream",
     "text": [
      "Stored 'volume' (bool)\n",
      "Stored 'old' (bool)\n"
     ]
    }
   ],
   "source": [
    "%store volume old"
   ],
   "metadata": {
    "collapsed": false
   }
  },
  {
   "cell_type": "code",
   "execution_count": null,
   "outputs": [],
   "source": [],
   "metadata": {
    "collapsed": false
   }
  }
 ],
 "metadata": {
  "kernelspec": {
   "display_name": "Python 3",
   "language": "python",
   "name": "python3"
  },
  "language_info": {
   "codemirror_mode": {
    "name": "ipython",
    "version": 2
   },
   "file_extension": ".py",
   "mimetype": "text/x-python",
   "name": "python",
   "nbconvert_exporter": "python",
   "pygments_lexer": "ipython2",
   "version": "2.7.6"
  }
 },
 "nbformat": 4,
 "nbformat_minor": 0
}
